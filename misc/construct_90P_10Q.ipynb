{
 "cells": [
  {
   "cell_type": "code",
   "execution_count": 79,
   "id": "03aec10e-c55e-4ee7-a8fd-186d36435bb9",
   "metadata": {},
   "outputs": [],
   "source": [
    "import pandas as pd"
   ]
  },
  {
   "cell_type": "code",
   "execution_count": 80,
   "id": "718d5f40-507c-40ea-ac29-b16307192214",
   "metadata": {},
   "outputs": [],
   "source": [
    "seed = 4\n",
    "df_p = pd.read_csv('../dataset_csv/fastmri_sliced/for_debug/train/seed_'+str(seed)+'/trainset_01.csv')\n",
    "df_q = pd.read_csv('../dataset_csv/fastmri_sliced/for_debug/train/seed_'+str(seed)+'/trainset_16.csv')"
   ]
  },
  {
   "cell_type": "markdown",
   "id": "60c570c0-d651-4a0f-9459-68ef6acaa565",
   "metadata": {},
   "source": [
    "### 90% P and 10% Q Split"
   ]
  },
  {
   "cell_type": "code",
   "execution_count": 81,
   "id": "4ab83ebe-cc2f-4a95-9834-a14674a1ebbb",
   "metadata": {},
   "outputs": [],
   "source": [
    "def add_q_to_p(df_p, protocol_p, machine_p, df_q, protocol_q, machine_q, reps = 1):\n",
    "    df_new = pd.DataFrame()\n",
    "    for p in protocol_p:\n",
    "        for m in machine_p:\n",
    "            q = df_p[(df_p['protocolName'] == p) & (df_p['systemModel'] == m)]\n",
    "            print(p, m, q.numSlices.sum())\n",
    "            df_new = pd.concat([df_new, q])\n",
    "    a = df_new.numSlices.sum()\n",
    "    print(df_new.numSlices.sum())\n",
    "    for _ in range(reps):\n",
    "        for p in protocol_q:\n",
    "            for m in machine_q:\n",
    "                q = df_q[(df_q['protocolName'] == p) & (df_q['systemModel'] == m)]\n",
    "                print(p, m, q.numSlices.sum())\n",
    "                df_new = pd.concat([df_new, q])\n",
    "\n",
    "    print(df_new.numSlices.sum())\n",
    "    print('Q percentage: {:0.2f}'.format((df_new.numSlices.sum() - a) / df_new.numSlices.sum()))\n",
    "    \n",
    "    return df_new"
   ]
  },
  {
   "cell_type": "markdown",
   "id": "acb14dcd-c24e-44e2-98b9-69bd7ee2c4d9",
   "metadata": {},
   "source": [
    "#### P = PDFS, Q = PD"
   ]
  },
  {
   "cell_type": "code",
   "execution_count": 82,
   "id": "1deb8199-1025-40da-8821-bb1e44ddf6f1",
   "metadata": {},
   "outputs": [
    {
     "name": "stdout",
     "output_type": "stream",
     "text": [
      "CORPDFS_FBK Aera 2025\n",
      "CORPDFS_FBK Skyra 2053\n",
      "CORPDFS_FBK Biograph_mMR 2000\n",
      "6078\n",
      "CORPD_FBK Aera 136\n",
      "CORPD_FBK Skyra 144\n",
      "CORPD_FBK Biograph_mMR 154\n",
      "6512\n",
      "Q percentage: 0.07\n"
     ]
    }
   ],
   "source": [
    "protocol_p = ['CORPDFS_FBK']\n",
    "machine_p = ['Aera', 'Skyra', 'Biograph_mMR']\n",
    "\n",
    "protocol_q = ['CORPD_FBK']\n",
    "machine_q = ['Aera', 'Skyra', 'Biograph_mMR']\n",
    "\n",
    "df_new = add_q_to_p(df_p, protocol_p, machine_p, df_q, protocol_q, machine_q)\n",
    "df_new.to_csv('../dataset_csv/p90_q10/for_debug/seed_'+str(seed)+'/pdfs_pd_trainset.csv', index=False)"
   ]
  },
  {
   "cell_type": "markdown",
   "id": "7d8eb0cc-74dc-462f-a49c-45eabf68ca4f",
   "metadata": {},
   "source": [
    "#### P = PD, Q = PDFS"
   ]
  },
  {
   "cell_type": "code",
   "execution_count": 83,
   "id": "99940ceb-defc-4edf-afac-9990b9e3850a",
   "metadata": {},
   "outputs": [
    {
     "name": "stdout",
     "output_type": "stream",
     "text": [
      "CORPD_FBK Aera 2007\n",
      "CORPD_FBK Skyra 2074\n",
      "CORPD_FBK Biograph_mMR 1856\n",
      "5937\n",
      "CORPDFS_FBK Aera 135\n",
      "CORPDFS_FBK Skyra 149\n",
      "CORPDFS_FBK Biograph_mMR 148\n",
      "6369\n",
      "Q percentage: 0.07\n"
     ]
    },
    {
     "data": {
      "text/html": [
       "<div>\n",
       "<style scoped>\n",
       "    .dataframe tbody tr th:only-of-type {\n",
       "        vertical-align: middle;\n",
       "    }\n",
       "\n",
       "    .dataframe tbody tr th {\n",
       "        vertical-align: top;\n",
       "    }\n",
       "\n",
       "    .dataframe thead th {\n",
       "        text-align: right;\n",
       "    }\n",
       "</style>\n",
       "<table border=\"1\" class=\"dataframe\">\n",
       "  <thead>\n",
       "    <tr style=\"text-align: right;\">\n",
       "      <th></th>\n",
       "      <th>folderDirectory</th>\n",
       "      <th>filename</th>\n",
       "      <th>start_slice</th>\n",
       "      <th>end_slice</th>\n",
       "      <th>numSlices</th>\n",
       "      <th>datasetName</th>\n",
       "      <th>protocolName</th>\n",
       "      <th>receiverChannels</th>\n",
       "      <th>encodeX</th>\n",
       "      <th>encodeY</th>\n",
       "      <th>reconX</th>\n",
       "      <th>reconY</th>\n",
       "      <th>systemVendor</th>\n",
       "      <th>systemModel</th>\n",
       "      <th>systemFieldStrength_T</th>\n",
       "      <th>institutionName</th>\n",
       "      <th>sequence_type</th>\n",
       "    </tr>\n",
       "  </thead>\n",
       "  <tbody>\n",
       "    <tr>\n",
       "      <th>1460</th>\n",
       "      <td>NaN</td>\n",
       "      <td>file1000495.h5</td>\n",
       "      <td>0</td>\n",
       "      <td>34</td>\n",
       "      <td>34</td>\n",
       "      <td>fastmri_knee</td>\n",
       "      <td>CORPD_FBK</td>\n",
       "      <td>15</td>\n",
       "      <td>640</td>\n",
       "      <td>372</td>\n",
       "      <td>320</td>\n",
       "      <td>320</td>\n",
       "      <td>SIEMENS</td>\n",
       "      <td>Aera</td>\n",
       "      <td>1.49400</td>\n",
       "      <td>NYU</td>\n",
       "      <td>TurboSpinEcho</td>\n",
       "    </tr>\n",
       "    <tr>\n",
       "      <th>1461</th>\n",
       "      <td>NaN</td>\n",
       "      <td>file1001628.h5</td>\n",
       "      <td>0</td>\n",
       "      <td>37</td>\n",
       "      <td>37</td>\n",
       "      <td>fastmri_knee</td>\n",
       "      <td>CORPD_FBK</td>\n",
       "      <td>15</td>\n",
       "      <td>640</td>\n",
       "      <td>372</td>\n",
       "      <td>320</td>\n",
       "      <td>320</td>\n",
       "      <td>SIEMENS</td>\n",
       "      <td>Aera</td>\n",
       "      <td>1.49400</td>\n",
       "      <td>HJD</td>\n",
       "      <td>TurboSpinEcho</td>\n",
       "    </tr>\n",
       "    <tr>\n",
       "      <th>1462</th>\n",
       "      <td>NaN</td>\n",
       "      <td>file1001816.h5</td>\n",
       "      <td>0</td>\n",
       "      <td>32</td>\n",
       "      <td>32</td>\n",
       "      <td>fastmri_knee</td>\n",
       "      <td>CORPD_FBK</td>\n",
       "      <td>15</td>\n",
       "      <td>640</td>\n",
       "      <td>388</td>\n",
       "      <td>320</td>\n",
       "      <td>320</td>\n",
       "      <td>SIEMENS</td>\n",
       "      <td>Aera</td>\n",
       "      <td>1.49400</td>\n",
       "      <td>NYU</td>\n",
       "      <td>TurboSpinEcho</td>\n",
       "    </tr>\n",
       "    <tr>\n",
       "      <th>1463</th>\n",
       "      <td>NaN</td>\n",
       "      <td>file1001193.h5</td>\n",
       "      <td>0</td>\n",
       "      <td>33</td>\n",
       "      <td>33</td>\n",
       "      <td>fastmri_knee</td>\n",
       "      <td>CORPD_FBK</td>\n",
       "      <td>15</td>\n",
       "      <td>640</td>\n",
       "      <td>372</td>\n",
       "      <td>320</td>\n",
       "      <td>320</td>\n",
       "      <td>SIEMENS</td>\n",
       "      <td>Aera</td>\n",
       "      <td>1.49400</td>\n",
       "      <td>NYU</td>\n",
       "      <td>TurboSpinEcho</td>\n",
       "    </tr>\n",
       "    <tr>\n",
       "      <th>1464</th>\n",
       "      <td>NaN</td>\n",
       "      <td>file1000988.h5</td>\n",
       "      <td>0</td>\n",
       "      <td>30</td>\n",
       "      <td>30</td>\n",
       "      <td>fastmri_knee</td>\n",
       "      <td>CORPD_FBK</td>\n",
       "      <td>15</td>\n",
       "      <td>640</td>\n",
       "      <td>372</td>\n",
       "      <td>320</td>\n",
       "      <td>320</td>\n",
       "      <td>SIEMENS</td>\n",
       "      <td>Aera</td>\n",
       "      <td>1.49400</td>\n",
       "      <td>NYU</td>\n",
       "      <td>TurboSpinEcho</td>\n",
       "    </tr>\n",
       "    <tr>\n",
       "      <th>...</th>\n",
       "      <td>...</td>\n",
       "      <td>...</td>\n",
       "      <td>...</td>\n",
       "      <td>...</td>\n",
       "      <td>...</td>\n",
       "      <td>...</td>\n",
       "      <td>...</td>\n",
       "      <td>...</td>\n",
       "      <td>...</td>\n",
       "      <td>...</td>\n",
       "      <td>...</td>\n",
       "      <td>...</td>\n",
       "      <td>...</td>\n",
       "      <td>...</td>\n",
       "      <td>...</td>\n",
       "      <td>...</td>\n",
       "      <td>...</td>\n",
       "    </tr>\n",
       "    <tr>\n",
       "      <th>90</th>\n",
       "      <td>NaN</td>\n",
       "      <td>file1000738.h5</td>\n",
       "      <td>0</td>\n",
       "      <td>39</td>\n",
       "      <td>39</td>\n",
       "      <td>fastmri_knee</td>\n",
       "      <td>CORPDFS_FBK</td>\n",
       "      <td>15</td>\n",
       "      <td>640</td>\n",
       "      <td>368</td>\n",
       "      <td>320</td>\n",
       "      <td>320</td>\n",
       "      <td>SIEMENS</td>\n",
       "      <td>Skyra</td>\n",
       "      <td>2.89362</td>\n",
       "      <td>NYU</td>\n",
       "      <td>TurboSpinEcho</td>\n",
       "    </tr>\n",
       "    <tr>\n",
       "      <th>91</th>\n",
       "      <td>NaN</td>\n",
       "      <td>file1000695.h5</td>\n",
       "      <td>0</td>\n",
       "      <td>35</td>\n",
       "      <td>35</td>\n",
       "      <td>fastmri_knee</td>\n",
       "      <td>CORPDFS_FBK</td>\n",
       "      <td>15</td>\n",
       "      <td>640</td>\n",
       "      <td>368</td>\n",
       "      <td>320</td>\n",
       "      <td>320</td>\n",
       "      <td>SIEMENS</td>\n",
       "      <td>Biograph_mMR</td>\n",
       "      <td>2.89362</td>\n",
       "      <td>NYU</td>\n",
       "      <td>TurboSpinEcho</td>\n",
       "    </tr>\n",
       "    <tr>\n",
       "      <th>92</th>\n",
       "      <td>NaN</td>\n",
       "      <td>file1001758.h5</td>\n",
       "      <td>0</td>\n",
       "      <td>38</td>\n",
       "      <td>38</td>\n",
       "      <td>fastmri_knee</td>\n",
       "      <td>CORPDFS_FBK</td>\n",
       "      <td>15</td>\n",
       "      <td>640</td>\n",
       "      <td>368</td>\n",
       "      <td>320</td>\n",
       "      <td>320</td>\n",
       "      <td>SIEMENS</td>\n",
       "      <td>Biograph_mMR</td>\n",
       "      <td>2.89362</td>\n",
       "      <td>NYU</td>\n",
       "      <td>TurboSpinEcho</td>\n",
       "    </tr>\n",
       "    <tr>\n",
       "      <th>93</th>\n",
       "      <td>NaN</td>\n",
       "      <td>file1002050.h5</td>\n",
       "      <td>0</td>\n",
       "      <td>36</td>\n",
       "      <td>36</td>\n",
       "      <td>fastmri_knee</td>\n",
       "      <td>CORPDFS_FBK</td>\n",
       "      <td>15</td>\n",
       "      <td>640</td>\n",
       "      <td>368</td>\n",
       "      <td>320</td>\n",
       "      <td>320</td>\n",
       "      <td>SIEMENS</td>\n",
       "      <td>Biograph_mMR</td>\n",
       "      <td>2.89362</td>\n",
       "      <td>NYU</td>\n",
       "      <td>TurboSpinEcho</td>\n",
       "    </tr>\n",
       "    <tr>\n",
       "      <th>94</th>\n",
       "      <td>NaN</td>\n",
       "      <td>file1000790.h5</td>\n",
       "      <td>0</td>\n",
       "      <td>39</td>\n",
       "      <td>39</td>\n",
       "      <td>fastmri_knee</td>\n",
       "      <td>CORPDFS_FBK</td>\n",
       "      <td>15</td>\n",
       "      <td>640</td>\n",
       "      <td>368</td>\n",
       "      <td>320</td>\n",
       "      <td>320</td>\n",
       "      <td>SIEMENS</td>\n",
       "      <td>Biograph_mMR</td>\n",
       "      <td>2.89362</td>\n",
       "      <td>NYU</td>\n",
       "      <td>TurboSpinEcho</td>\n",
       "    </tr>\n",
       "  </tbody>\n",
       "</table>\n",
       "<p>177 rows × 17 columns</p>\n",
       "</div>"
      ],
      "text/plain": [
       "      folderDirectory        filename  start_slice  end_slice  numSlices  \\\n",
       "1460              NaN  file1000495.h5            0         34         34   \n",
       "1461              NaN  file1001628.h5            0         37         37   \n",
       "1462              NaN  file1001816.h5            0         32         32   \n",
       "1463              NaN  file1001193.h5            0         33         33   \n",
       "1464              NaN  file1000988.h5            0         30         30   \n",
       "...               ...             ...          ...        ...        ...   \n",
       "90                NaN  file1000738.h5            0         39         39   \n",
       "91                NaN  file1000695.h5            0         35         35   \n",
       "92                NaN  file1001758.h5            0         38         38   \n",
       "93                NaN  file1002050.h5            0         36         36   \n",
       "94                NaN  file1000790.h5            0         39         39   \n",
       "\n",
       "       datasetName protocolName  receiverChannels  encodeX  encodeY  reconX  \\\n",
       "1460  fastmri_knee    CORPD_FBK                15      640      372     320   \n",
       "1461  fastmri_knee    CORPD_FBK                15      640      372     320   \n",
       "1462  fastmri_knee    CORPD_FBK                15      640      388     320   \n",
       "1463  fastmri_knee    CORPD_FBK                15      640      372     320   \n",
       "1464  fastmri_knee    CORPD_FBK                15      640      372     320   \n",
       "...            ...          ...               ...      ...      ...     ...   \n",
       "90    fastmri_knee  CORPDFS_FBK                15      640      368     320   \n",
       "91    fastmri_knee  CORPDFS_FBK                15      640      368     320   \n",
       "92    fastmri_knee  CORPDFS_FBK                15      640      368     320   \n",
       "93    fastmri_knee  CORPDFS_FBK                15      640      368     320   \n",
       "94    fastmri_knee  CORPDFS_FBK                15      640      368     320   \n",
       "\n",
       "      reconY systemVendor   systemModel  systemFieldStrength_T  \\\n",
       "1460     320      SIEMENS          Aera                1.49400   \n",
       "1461     320      SIEMENS          Aera                1.49400   \n",
       "1462     320      SIEMENS          Aera                1.49400   \n",
       "1463     320      SIEMENS          Aera                1.49400   \n",
       "1464     320      SIEMENS          Aera                1.49400   \n",
       "...      ...          ...           ...                    ...   \n",
       "90       320      SIEMENS         Skyra                2.89362   \n",
       "91       320      SIEMENS  Biograph_mMR                2.89362   \n",
       "92       320      SIEMENS  Biograph_mMR                2.89362   \n",
       "93       320      SIEMENS  Biograph_mMR                2.89362   \n",
       "94       320      SIEMENS  Biograph_mMR                2.89362   \n",
       "\n",
       "     institutionName  sequence_type  \n",
       "1460             NYU  TurboSpinEcho  \n",
       "1461             HJD  TurboSpinEcho  \n",
       "1462             NYU  TurboSpinEcho  \n",
       "1463             NYU  TurboSpinEcho  \n",
       "1464             NYU  TurboSpinEcho  \n",
       "...              ...            ...  \n",
       "90               NYU  TurboSpinEcho  \n",
       "91               NYU  TurboSpinEcho  \n",
       "92               NYU  TurboSpinEcho  \n",
       "93               NYU  TurboSpinEcho  \n",
       "94               NYU  TurboSpinEcho  \n",
       "\n",
       "[177 rows x 17 columns]"
      ]
     },
     "execution_count": 83,
     "metadata": {},
     "output_type": "execute_result"
    }
   ],
   "source": [
    "protocol_p = ['CORPD_FBK']\n",
    "machine_p = ['Aera', 'Skyra', 'Biograph_mMR']\n",
    "\n",
    "protocol_q = ['CORPDFS_FBK']\n",
    "machine_q = ['Aera', 'Skyra', 'Biograph_mMR']\n",
    "\n",
    "df_new = add_q_to_p(df_p, protocol_p, machine_p, df_q, protocol_q, machine_q)\n",
    "df_new.to_csv('../dataset_csv/p90_q10/for_debug/seed_'+str(seed)+'/pd_pdfs_trainset.csv', index=False)\n",
    "df_new"
   ]
  },
  {
   "cell_type": "markdown",
   "id": "c51a78b7-bc9d-405f-aea6-2e019e64cf72",
   "metadata": {},
   "source": [
    "#### P = T2, Q = non-T2"
   ]
  },
  {
   "cell_type": "code",
   "execution_count": 84,
   "id": "026c9cb0-7c87-43b0-a13a-07d6814ebf93",
   "metadata": {},
   "outputs": [
    {
     "name": "stdout",
     "output_type": "stream",
     "text": [
      "AXT2 Aera 2082\n",
      "AXT2 Avanto 2038\n",
      "AXT2 Skyra 2024\n",
      "AXT2 Prisma_fit 2042\n",
      "AXT2 Biograph_mMR 2026\n",
      "10212\n",
      "AXFLAIR Aera 0\n",
      "AXFLAIR Avanto 0\n",
      "AXFLAIR Skyra 124\n",
      "AXFLAIR Prisma_fit 0\n",
      "AXFLAIR Biograph_mMR 0\n",
      "AXT1 Aera 136\n",
      "AXT1 Avanto 0\n",
      "AXT1 Skyra 0\n",
      "AXT1 Prisma_fit 0\n",
      "AXT1 Biograph_mMR 0\n",
      "AXT1POST Aera 140\n",
      "AXT1POST Avanto 128\n",
      "AXT1POST Skyra 124\n",
      "AXT1POST Prisma_fit 0\n",
      "AXT1POST Biograph_mMR 0\n",
      "10864\n",
      "Q percentage: 0.06\n"
     ]
    }
   ],
   "source": [
    "protocol_p = ['AXT2']\n",
    "machine_p = ['Aera', 'Avanto', 'Skyra', 'Prisma_fit', 'Biograph_mMR']\n",
    "\n",
    "protocol_q = ['AXFLAIR', 'AXT1', 'AXT1POST']\n",
    "machine_q = ['Aera', 'Avanto', 'Skyra', 'Prisma_fit', 'Biograph_mMR']\n",
    "\n",
    "df_new = add_q_to_p(df_p, protocol_p, machine_p, df_q, protocol_q, machine_q)\n",
    "df_new.to_csv('../dataset_csv/p90_q10/for_debug/seed_'+str(seed)+'/t2_non-t2_trainset.csv', index=False)"
   ]
  },
  {
   "cell_type": "markdown",
   "id": "8e2d9c89-a1af-4917-8d46-f06d19b8fef6",
   "metadata": {},
   "source": [
    "#### P = non-T2, Q = T2"
   ]
  },
  {
   "cell_type": "code",
   "execution_count": 85,
   "id": "277b752e-6204-4d5f-a11b-edbd89f43d4e",
   "metadata": {},
   "outputs": [
    {
     "name": "stdout",
     "output_type": "stream",
     "text": [
      "AXFLAIR Aera 0\n",
      "AXFLAIR Avanto 0\n",
      "AXFLAIR Skyra 2020\n",
      "AXFLAIR Prisma_fit 0\n",
      "AXFLAIR Biograph_mMR 0\n",
      "AXT1 Aera 2058\n",
      "AXT1 Avanto 0\n",
      "AXT1 Skyra 0\n",
      "AXT1 Prisma_fit 0\n",
      "AXT1 Biograph_mMR 0\n",
      "AXT1POST Aera 2080\n",
      "AXT1POST Avanto 2040\n",
      "AXT1POST Skyra 2014\n",
      "AXT1POST Prisma_fit 0\n",
      "AXT1POST Biograph_mMR 0\n",
      "10212\n",
      "AXT2 Aera 144\n",
      "AXT2 Avanto 128\n",
      "AXT2 Skyra 124\n",
      "AXT2 Prisma_fit 128\n",
      "AXT2 Biograph_mMR 128\n",
      "10864\n",
      "Q percentage: 0.06\n"
     ]
    }
   ],
   "source": [
    "protocol_p = ['AXFLAIR', 'AXT1', 'AXT1POST']\n",
    "machine_p = ['Aera', 'Avanto', 'Skyra', 'Prisma_fit', 'Biograph_mMR']\n",
    "\n",
    "protocol_q = ['AXT2']\n",
    "machine_q = ['Aera', 'Avanto', 'Skyra', 'Prisma_fit', 'Biograph_mMR']\n",
    "\n",
    "df_new = add_q_to_p(df_p, protocol_p, machine_p, df_q, protocol_q, machine_q)\n",
    "df_new.to_csv('../dataset_csv/p90_q10/for_debug/seed_'+str(seed)+'/non-t2_t2_trainset.csv', index=False)"
   ]
  },
  {
   "cell_type": "markdown",
   "id": "5533d159-51f7-44ce-a9b7-f83200877084",
   "metadata": {},
   "source": [
    "#### P = Knee, Q = Brain"
   ]
  },
  {
   "cell_type": "code",
   "execution_count": 86,
   "id": "403007f2-d343-4606-b8b2-f0b42a0e9738",
   "metadata": {},
   "outputs": [
    {
     "name": "stdout",
     "output_type": "stream",
     "text": [
      "CORPDFS_FBK Aera 2025\n",
      "CORPDFS_FBK Avanto 0\n",
      "CORPDFS_FBK Skyra 2053\n",
      "CORPDFS_FBK Prisma_fit 0\n",
      "CORPDFS_FBK Biograph_mMR 2000\n",
      "CORPD_FBK Aera 2007\n",
      "CORPD_FBK Avanto 0\n",
      "CORPD_FBK Skyra 2074\n",
      "CORPD_FBK Prisma_fit 0\n",
      "CORPD_FBK Biograph_mMR 1856\n",
      "12015\n",
      "AXFLAIR Aera 0\n",
      "AXFLAIR Avanto 0\n",
      "AXFLAIR Skyra 124\n",
      "AXFLAIR Prisma_fit 0\n",
      "AXFLAIR Biograph_mMR 0\n",
      "AXT1 Aera 136\n",
      "AXT1 Avanto 0\n",
      "AXT1 Skyra 0\n",
      "AXT1 Prisma_fit 0\n",
      "AXT1 Biograph_mMR 0\n",
      "AXT1POST Aera 140\n",
      "AXT1POST Avanto 128\n",
      "AXT1POST Skyra 124\n",
      "AXT1POST Prisma_fit 0\n",
      "AXT1POST Biograph_mMR 0\n",
      "AXT2 Aera 144\n",
      "AXT2 Avanto 128\n",
      "AXT2 Skyra 124\n",
      "AXT2 Prisma_fit 128\n",
      "AXT2 Biograph_mMR 128\n",
      "13319\n",
      "Q percentage: 0.10\n"
     ]
    }
   ],
   "source": [
    "protocol_p = ['CORPDFS_FBK', 'CORPD_FBK']\n",
    "machine_p = ['Aera', 'Avanto', 'Skyra', 'Prisma_fit', 'Biograph_mMR']\n",
    "\n",
    "protocol_q = ['AXFLAIR', 'AXT1', 'AXT1POST', 'AXT2']\n",
    "machine_q = ['Aera', 'Avanto', 'Skyra', 'Prisma_fit', 'Biograph_mMR']\n",
    "\n",
    "df_new = add_q_to_p(df_p, protocol_p, machine_p, df_q, protocol_q, machine_q)\n",
    "df_new.to_csv('../dataset_csv/p90_q10/for_debug/seed_'+str(seed)+'/knee_brain_trainset.csv', index=False)"
   ]
  },
  {
   "cell_type": "markdown",
   "id": "7680ca5d-b04a-441a-b262-5dfb432c2faa",
   "metadata": {},
   "source": [
    "#### P = Brain, Q = Knee"
   ]
  },
  {
   "cell_type": "code",
   "execution_count": 87,
   "id": "fe8434f6-f871-472c-bdef-2d5c5b16781d",
   "metadata": {},
   "outputs": [
    {
     "name": "stdout",
     "output_type": "stream",
     "text": [
      "AXFLAIR Aera 0\n",
      "AXFLAIR Avanto 0\n",
      "AXFLAIR Skyra 2020\n",
      "AXFLAIR Prisma_fit 0\n",
      "AXFLAIR Biograph_mMR 0\n",
      "AXT1 Aera 2058\n",
      "AXT1 Avanto 0\n",
      "AXT1 Skyra 0\n",
      "AXT1 Prisma_fit 0\n",
      "AXT1 Biograph_mMR 0\n",
      "AXT1POST Aera 2080\n",
      "AXT1POST Avanto 2040\n",
      "AXT1POST Skyra 2014\n",
      "AXT1POST Prisma_fit 0\n",
      "AXT1POST Biograph_mMR 0\n",
      "AXT2 Aera 2082\n",
      "AXT2 Avanto 2038\n",
      "AXT2 Skyra 2024\n",
      "AXT2 Prisma_fit 2042\n",
      "AXT2 Biograph_mMR 2026\n",
      "20424\n",
      "CORPDFS_FBK Aera 135\n",
      "CORPDFS_FBK Avanto 0\n",
      "CORPDFS_FBK Skyra 149\n",
      "CORPDFS_FBK Prisma_fit 0\n",
      "CORPDFS_FBK Biograph_mMR 148\n",
      "CORPD_FBK Aera 136\n",
      "CORPD_FBK Avanto 0\n",
      "CORPD_FBK Skyra 144\n",
      "CORPD_FBK Prisma_fit 0\n",
      "CORPD_FBK Biograph_mMR 154\n",
      "21290\n",
      "Q percentage: 0.04\n"
     ]
    }
   ],
   "source": [
    "protocol_p = ['AXFLAIR', 'AXT1', 'AXT1POST', 'AXT2']\n",
    "machine_p = ['Aera', 'Avanto', 'Skyra', 'Prisma_fit', 'Biograph_mMR']\n",
    "\n",
    "protocol_q = ['CORPDFS_FBK', 'CORPD_FBK']\n",
    "machine_q = ['Aera', 'Avanto', 'Skyra', 'Prisma_fit', 'Biograph_mMR']\n",
    "\n",
    "df_new = add_q_to_p(df_p, protocol_p, machine_p, df_q, protocol_q, machine_q)\n",
    "df_new.to_csv('../dataset_csv/p90_q10/for_debug/seed_'+str(seed)+'/brain_knee_trainset.csv', index=False)"
   ]
  },
  {
   "cell_type": "markdown",
   "id": "db7d601a-2553-499c-88d4-199d37d036d3",
   "metadata": {},
   "source": [
    "#### P = 3T, Q = 1.5T"
   ]
  },
  {
   "cell_type": "code",
   "execution_count": 88,
   "id": "29affa88-b126-445b-8c12-cbbfdfa2261d",
   "metadata": {},
   "outputs": [
    {
     "name": "stdout",
     "output_type": "stream",
     "text": [
      "AXFLAIR Skyra 2020\n",
      "AXFLAIR Prisma_fit 0\n",
      "AXFLAIR Biograph_mMR 0\n",
      "AXT1 Skyra 0\n",
      "AXT1 Prisma_fit 0\n",
      "AXT1 Biograph_mMR 0\n",
      "AXT1POST Skyra 2014\n",
      "AXT1POST Prisma_fit 0\n",
      "AXT1POST Biograph_mMR 0\n",
      "AXT2 Skyra 2024\n",
      "AXT2 Prisma_fit 2042\n",
      "AXT2 Biograph_mMR 2026\n",
      "CORPDFS_FBK Skyra 2053\n",
      "CORPDFS_FBK Prisma_fit 0\n",
      "CORPDFS_FBK Biograph_mMR 2000\n",
      "CORPD_FBK Skyra 2074\n",
      "CORPD_FBK Prisma_fit 0\n",
      "CORPD_FBK Biograph_mMR 1856\n",
      "18109\n",
      "AXFLAIR Aera 0\n",
      "AXFLAIR Avanto 0\n",
      "AXT1 Aera 136\n",
      "AXT1 Avanto 0\n",
      "AXT1POST Aera 140\n",
      "AXT1POST Avanto 128\n",
      "AXT2 Aera 144\n",
      "AXT2 Avanto 128\n",
      "CORPDFS_FBK Aera 135\n",
      "CORPDFS_FBK Avanto 0\n",
      "CORPD_FBK Aera 136\n",
      "CORPD_FBK Avanto 0\n",
      "19056\n",
      "Q percentage: 0.05\n"
     ]
    }
   ],
   "source": [
    "protocol_p = ['AXFLAIR', 'AXT1', 'AXT1POST', 'AXT2', 'CORPDFS_FBK', 'CORPD_FBK']\n",
    "machine_p = ['Skyra', 'Prisma_fit', 'Biograph_mMR']\n",
    "\n",
    "protocol_q = ['AXFLAIR', 'AXT1', 'AXT1POST', 'AXT2', 'CORPDFS_FBK', 'CORPD_FBK']\n",
    "machine_q = ['Aera', 'Avanto']\n",
    "\n",
    "df_new = add_q_to_p(df_p, protocol_p, machine_p, df_q, protocol_q, machine_q)\n",
    "df_new.to_csv('../dataset_csv/p90_q10/for_debug/seed_'+str(seed)+'/30T_15T_trainset.csv', index=False)"
   ]
  },
  {
   "cell_type": "markdown",
   "id": "5c429a8c-091c-4105-8a0d-d7d9aa32e65d",
   "metadata": {},
   "source": [
    "#### P = 1.5T, Q = 3T"
   ]
  },
  {
   "cell_type": "code",
   "execution_count": 89,
   "id": "fe3935cc-7494-409d-8446-80b2fe98aafc",
   "metadata": {},
   "outputs": [
    {
     "name": "stdout",
     "output_type": "stream",
     "text": [
      "AXFLAIR Aera 0\n",
      "AXFLAIR Avanto 0\n",
      "AXT1 Aera 2058\n",
      "AXT1 Avanto 0\n",
      "AXT1POST Aera 2080\n",
      "AXT1POST Avanto 2040\n",
      "AXT2 Aera 2082\n",
      "AXT2 Avanto 2038\n",
      "CORPDFS_FBK Aera 2025\n",
      "CORPDFS_FBK Avanto 0\n",
      "CORPD_FBK Aera 2007\n",
      "CORPD_FBK Avanto 0\n",
      "14330\n",
      "AXFLAIR Skyra 124\n",
      "AXFLAIR Prisma_fit 0\n",
      "AXFLAIR Biograph_mMR 0\n",
      "AXT1 Skyra 0\n",
      "AXT1 Prisma_fit 0\n",
      "AXT1 Biograph_mMR 0\n",
      "AXT1POST Skyra 124\n",
      "AXT1POST Prisma_fit 0\n",
      "AXT1POST Biograph_mMR 0\n",
      "AXT2 Skyra 124\n",
      "AXT2 Prisma_fit 128\n",
      "AXT2 Biograph_mMR 128\n",
      "CORPDFS_FBK Skyra 149\n",
      "CORPDFS_FBK Prisma_fit 0\n",
      "CORPDFS_FBK Biograph_mMR 148\n",
      "CORPD_FBK Skyra 144\n",
      "CORPD_FBK Prisma_fit 0\n",
      "CORPD_FBK Biograph_mMR 154\n",
      "15553\n",
      "Q percentage: 0.08\n"
     ]
    }
   ],
   "source": [
    "protocol_p = ['AXFLAIR', 'AXT1', 'AXT1POST', 'AXT2', 'CORPDFS_FBK', 'CORPD_FBK']\n",
    "machine_p = ['Aera', 'Avanto']\n",
    "\n",
    "protocol_q = ['AXFLAIR', 'AXT1', 'AXT1POST', 'AXT2', 'CORPDFS_FBK', 'CORPD_FBK']\n",
    "machine_q = ['Skyra', 'Prisma_fit', 'Biograph_mMR']\n",
    "\n",
    "df_new = add_q_to_p(df_p, protocol_p, machine_p, df_q, protocol_q, machine_q)\n",
    "df_new.to_csv('../dataset_csv/p90_q10/for_debug/seed_'+str(seed)+'/15T_30T_trainset.csv', index=False)"
   ]
  },
  {
   "cell_type": "markdown",
   "id": "00035950-1e93-41ea-aea9-1b90b588ea01",
   "metadata": {},
   "source": [
    "### 90% P and 10% Q Split With Duplication"
   ]
  },
  {
   "cell_type": "markdown",
   "id": "914ba057-3b9e-4da5-a2ae-24428bcba320",
   "metadata": {},
   "source": [
    "#### P = PDFS, Q = PD"
   ]
  },
  {
   "cell_type": "code",
   "execution_count": 90,
   "id": "8adddccd-3253-4a37-ba25-f54f20d7c279",
   "metadata": {},
   "outputs": [],
   "source": [
    "# protocol_p = ['CORPDFS_FBK']\n",
    "# machine_p = ['Aera', 'Skyra', 'Biograph_mMR']\n",
    "\n",
    "# protocol_q = ['CORPD_FBK']\n",
    "# machine_q = ['Aera', 'Skyra', 'Biograph_mMR']\n",
    "\n",
    "# df_new = add_q_to_p(df_p, protocol_p, machine_p, df_q, protocol_q, machine_q, reps = 4)\n",
    "# df_new.to_csv('../dataset_csv/p90_q10/for_debug/seed_'+str(seed)+'/pdfs_pd_with_duplication_trainset.csv', index=False)"
   ]
  },
  {
   "cell_type": "markdown",
   "id": "afb00e45-d2e0-48a4-a01a-4695320ec4e1",
   "metadata": {},
   "source": [
    "#### P = PD, Q = PDFS"
   ]
  },
  {
   "cell_type": "code",
   "execution_count": 91,
   "id": "ca97bc72-4535-4f57-8764-93fcda5f39cc",
   "metadata": {},
   "outputs": [],
   "source": [
    "# protocol_p = ['CORPD_FBK']\n",
    "# machine_p = ['Aera', 'Skyra', 'Biograph_mMR']\n",
    "\n",
    "# protocol_q = ['CORPDFS_FBK']\n",
    "# machine_q = ['Aera', 'Skyra', 'Biograph_mMR']\n",
    "\n",
    "# df_new = add_q_to_p(df_p, protocol_p, machine_p, df_q, protocol_q, machine_q, reps = 4)\n",
    "# df_new.to_csv('../dataset_csv/p90_q10/for_debug/seed_'+str(seed)+'/pd_pdfs_with_duplicaton_trainset.csv', index=False)"
   ]
  },
  {
   "cell_type": "markdown",
   "id": "505ec01a-56ee-4f1c-bc3e-e6a72f34be84",
   "metadata": {},
   "source": [
    "#### P = T2, Q = non-T2"
   ]
  },
  {
   "cell_type": "code",
   "execution_count": 92,
   "id": "72e0488b-a8c0-4fcf-b1cc-a8b2bbc8dea8",
   "metadata": {},
   "outputs": [],
   "source": [
    "# protocol_p = ['AXT2']\n",
    "# machine_p = ['Aera', 'Avanto', 'Skyra', 'Prisma_fit', 'Biograph_mMR']\n",
    "\n",
    "# protocol_q = ['AXFLAIR', 'AXT1', 'AXT1POST']\n",
    "# machine_q = ['Aera', 'Avanto', 'Skyra', 'Prisma_fit', 'Biograph_mMR']\n",
    "\n",
    "# df_new = add_q_to_p(df_p, protocol_p, machine_p, df_q, protocol_q, machine_q, reps = 4)\n",
    "# df_new.to_csv('../dataset_csv/p90_q10/for_debug/seed_'+str(seed)+'/t2_non-t2_with_duplicaton_trainset.csv', index=False)"
   ]
  },
  {
   "cell_type": "markdown",
   "id": "a3556ff4-6390-424b-b093-f40b1efa53cf",
   "metadata": {},
   "source": [
    "#### P = non-T2, Q = T2"
   ]
  },
  {
   "cell_type": "code",
   "execution_count": 93,
   "id": "ca493e6d-31f7-48c1-8063-71d680d505b6",
   "metadata": {},
   "outputs": [],
   "source": [
    "# protocol_p = ['AXFLAIR', 'AXT1', 'AXT1POST']\n",
    "# machine_p = ['Aera', 'Avanto', 'Skyra', 'Prisma_fit', 'Biograph_mMR']\n",
    "\n",
    "# protocol_q = ['AXT2']\n",
    "# machine_q = ['Aera', 'Avanto', 'Skyra', 'Prisma_fit', 'Biograph_mMR']\n",
    "\n",
    "# df_new = add_q_to_p(df_p, protocol_p, machine_p, df_q, protocol_q, machine_q, reps = 4)\n",
    "# df_new.to_csv('../dataset_csv/p90_q10/for_debug/seed_'+str(seed)+'/non-t2_t2_with_duplicaton_trainset.csv', index=False)"
   ]
  },
  {
   "cell_type": "markdown",
   "id": "c7f25f39-ce84-4d44-9b18-747c1cb88986",
   "metadata": {},
   "source": [
    "#### P = Knee, Q = Brain"
   ]
  },
  {
   "cell_type": "code",
   "execution_count": 94,
   "id": "8b9df147-c9d4-422b-b0fb-f8ff602bb555",
   "metadata": {},
   "outputs": [],
   "source": [
    "# protocol_p = ['CORPDFS_FBK', 'CORPD_FBK']\n",
    "# machine_p = ['Aera', 'Avanto', 'Skyra', 'Prisma_fit', 'Biograph_mMR']\n",
    "\n",
    "# protocol_q = ['AXFLAIR', 'AXT1', 'AXT1POST', 'AXT2']\n",
    "# machine_q = ['Aera', 'Avanto', 'Skyra', 'Prisma_fit', 'Biograph_mMR']\n",
    "\n",
    "# df_new = add_q_to_p(df_p, protocol_p, machine_p, df_q, protocol_q, machine_q, reps = 4)\n",
    "# df_new.to_csv('../dataset_csv/p90_q10/for_debug/seed_'+str(seed)+'/knee_brain_with_duplicaton_trainset.csv', index=False)"
   ]
  },
  {
   "cell_type": "markdown",
   "id": "8e8a3de9-3dfe-4461-b239-8907dda3cec4",
   "metadata": {},
   "source": [
    "#### P = Brain, Q = Knee"
   ]
  },
  {
   "cell_type": "code",
   "execution_count": 95,
   "id": "4a55d5cc-f477-4ecd-82a7-0ce5ca809015",
   "metadata": {},
   "outputs": [],
   "source": [
    "# protocol_p = ['AXFLAIR', 'AXT1', 'AXT1POST', 'AXT2']\n",
    "# machine_p = ['Aera', 'Avanto', 'Skyra', 'Prisma_fit', 'Biograph_mMR']\n",
    "\n",
    "# protocol_q = ['CORPDFS_FBK', 'CORPD_FBK']\n",
    "# machine_q = ['Aera', 'Avanto', 'Skyra', 'Prisma_fit', 'Biograph_mMR']\n",
    "\n",
    "# df_new = add_q_to_p(df_p, protocol_p, machine_p, df_q, protocol_q, machine_q, reps = 4)\n",
    "# df_new.to_csv('../dataset_csv/p90_q10/for_debug/seed_'+str(seed)+'/brain_knee_with_duplicaton_trainset.csv', index=False)"
   ]
  },
  {
   "cell_type": "markdown",
   "id": "577ff671-7820-47d9-a99d-e883c05394c0",
   "metadata": {},
   "source": [
    "#### P = 3T, Q = 1.5T"
   ]
  },
  {
   "cell_type": "code",
   "execution_count": 96,
   "id": "ed6eba1b-344a-40bc-bf20-15583de0558a",
   "metadata": {},
   "outputs": [],
   "source": [
    "# protocol_p = ['AXFLAIR', 'AXT1', 'AXT1POST', 'AXT2', 'CORPDFS_FBK', 'CORPD_FBK']\n",
    "# machine_p = ['Skyra', 'Prisma_fit', 'Biograph_mMR']\n",
    "\n",
    "# protocol_q = ['AXFLAIR', 'AXT1', 'AXT1POST', 'AXT2', 'CORPDFS_FBK', 'CORPD_FBK']\n",
    "# machine_q = ['Aera', 'Avanto']\n",
    "\n",
    "# df_new = add_q_to_p(df_p, protocol_p, machine_p, df_q, protocol_q, machine_q, reps = 4)\n",
    "# df_new.to_csv('../dataset_csv/p90_q10/for_debug/seed_'+str(seed)+'/30T_15T_with_duplicaton_trainset.csv', index=False)"
   ]
  },
  {
   "cell_type": "markdown",
   "id": "39c9d143-2dd7-4b42-b62e-9b1a1b8c225b",
   "metadata": {},
   "source": [
    "#### P = 1.5T, Q = 3T"
   ]
  },
  {
   "cell_type": "code",
   "execution_count": 97,
   "id": "c9422b03-e176-4e82-a402-3af9bc5f2c67",
   "metadata": {},
   "outputs": [],
   "source": [
    "# protocol_p = ['AXFLAIR', 'AXT1', 'AXT1POST', 'AXT2', 'CORPDFS_FBK', 'CORPD_FBK']\n",
    "# machine_p = ['Aera', 'Avanto']\n",
    "\n",
    "# protocol_q = ['AXFLAIR', 'AXT1', 'AXT1POST', 'AXT2', 'CORPDFS_FBK', 'CORPD_FBK']\n",
    "# machine_q = ['Skyra', 'Prisma_fit', 'Biograph_mMR']\n",
    "\n",
    "# df_new = add_q_to_p(df_p, protocol_p, machine_p, df_q, protocol_q, machine_q, reps = 4)\n",
    "# df_new.to_csv('../dataset_csv/p90_q10/for_debug/seed_'+str(seed)+'/15T_30T_with_duplicaton_trainset.csv', index=False)"
   ]
  },
  {
   "cell_type": "code",
   "execution_count": null,
   "id": "c0a48914-838f-483b-be18-494a4f7f980a",
   "metadata": {},
   "outputs": [],
   "source": []
  },
  {
   "cell_type": "code",
   "execution_count": null,
   "id": "6272691e-73b7-4adb-ac1f-a471542ae0c2",
   "metadata": {},
   "outputs": [],
   "source": []
  },
  {
   "cell_type": "code",
   "execution_count": null,
   "id": "004f40db-8e8a-4dc0-a983-ed6cf5380eeb",
   "metadata": {},
   "outputs": [],
   "source": []
  },
  {
   "cell_type": "code",
   "execution_count": null,
   "id": "6af27cc4-38e1-4d6a-a63a-d6c5feaad5ce",
   "metadata": {},
   "outputs": [],
   "source": []
  }
 ],
 "metadata": {
  "kernelspec": {
   "display_name": "Python 3 (ipykernel)",
   "language": "python",
   "name": "python3"
  },
  "language_info": {
   "codemirror_mode": {
    "name": "ipython",
    "version": 3
   },
   "file_extension": ".py",
   "mimetype": "text/x-python",
   "name": "python",
   "nbconvert_exporter": "python",
   "pygments_lexer": "ipython3",
   "version": "3.8.16"
  },
  "vscode": {
   "interpreter": {
    "hash": "d4d1e4263499bec80672ea0156c357c1ee493ec2b1c70f0acce89fc37c4a6abe"
   }
  }
 },
 "nbformat": 4,
 "nbformat_minor": 5
}
